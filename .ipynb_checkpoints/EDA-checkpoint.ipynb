{
 "cells": [
  {
   "cell_type": "code",
   "execution_count": 6,
   "metadata": {},
   "outputs": [],
   "source": [
    "import findspark\n",
    "import os\n",
    "import tarfile\n",
    "import pandas as pd\n",
    "import matplotlib.pyplot as plt\n",
    "import datetime\n",
    "import numpy as np\n",
    "from scipy.stats import pearsonr, spearmanr\n",
    "from datetime import datetime\n",
    "import seaborn as sns"
   ]
  },
  {
   "cell_type": "code",
   "execution_count": 7,
   "metadata": {},
   "outputs": [
    {
     "data": {
      "text/plain": [
       "'C:\\\\Users\\\\Zeno\\\\Google Drive\\\\Data science in Engineering\\\\2IMD15 Data Engineering\\\\PySpark practice'"
      ]
     },
     "execution_count": 7,
     "metadata": {},
     "output_type": "execute_result"
    }
   ],
   "source": [
    "os.getcwd()"
   ]
  },
  {
   "cell_type": "code",
   "execution_count": 8,
   "metadata": {},
   "outputs": [
    {
     "name": "stdout",
     "output_type": "stream",
     "text": [
      "3.7.7 (default, Apr 15 2020, 05:09:04) [MSC v.1916 64 bit (AMD64)]\n"
     ]
    }
   ],
   "source": [
    "import sys\n",
    "from pyspark import SparkConf, SparkContext\n",
    "print(sys.version) "
   ]
  },
  {
   "cell_type": "markdown",
   "metadata": {},
   "source": [
    "import pyspark\n",
    "\n",
    "from pyspark.sql import SparkSession\n",
    "\n",
    "spark = SparkSession.builder.getOrCreate()\n",
    "\n",
    "df = spark.sql(\"select 'spark' as hello \")\n",
    "\n",
    "df.show()"
   ]
  },
  {
   "cell_type": "markdown",
   "metadata": {},
   "source": [
    "conf = SparkConf().setMaster('local').setAppName('spark count')\n",
    "sc = SparkContext(conf = conf)\n",
    "data = ['data engineering', 'on tuesday']\n",
    "datardd = sc.parallelize(data)\n",
    "result = datardd.map(lambda x:x.split(' ')).collect()\n",
    "result1 = datardd.flatMap(lambda x:x.split(' ')).collect()\n",
    "print(result)\n",
    "print(result1)\n",
    "\n",
    "#4. Websites that I used for this installation:\n",
    "#https://www.knowledgehut.com/blog/big-data/how-to-install-apache-spark-on-windows\n",
    "#https://medium.com/big-data-engineering/how-to-install-apache-spark-2-x-in-your-pc-e2047246ffc3"
   ]
  },
  {
   "cell_type": "code",
   "execution_count": 9,
   "metadata": {},
   "outputs": [],
   "source": [
    "files = os.listdir(os.getcwd() + '\\\\data\\\\')\n",
    "filenames = [file for file in files if file[-4:] == '.txt']"
   ]
  },
  {
   "cell_type": "code",
   "execution_count": 10,
   "metadata": {},
   "outputs": [
    {
     "data": {
      "text/plain": [
       "['202001_Amsterdam_AALB_NoExpiry.txt',\n",
       " '202001_Amsterdam_AGN_NoExpiry.txt',\n",
       " '202001_Amsterdam_AKZA_NoExpiry.txt',\n",
       " '202001_Amsterdam_APAM_NoExpiry.txt',\n",
       " '202001_Amsterdam_ASML_NoExpiry.txt']"
      ]
     },
     "execution_count": 10,
     "metadata": {},
     "output_type": "execute_result"
    }
   ],
   "source": [
    "filenames[:5]"
   ]
  },
  {
   "cell_type": "code",
   "execution_count": 11,
   "metadata": {},
   "outputs": [
    {
     "name": "stdout",
     "output_type": "stream",
     "text": [
      "2020-05-04 19:55:36.548389\n",
      "2020-05-04 19:55:38.325492\n"
     ]
    }
   ],
   "source": [
    "def correlation(series1, series2, metric='opening', \n",
    "                match='omit',duplicates=True, \n",
    "                correlation='pearson',showplot=False):\n",
    "    '''\n",
    "    series1: a pandas DataFrame\n",
    "    series2: a pandas DataFrame\n",
    "    metric: What metric in the data to use (selected from ['date','time','opening','highest','lower','closing','volume'])\n",
    "    match: how to deal with misalignment of the timeseries\n",
    "    duplicates: what to do if there are multiple occurences of a date_time in 1 dataframe\n",
    "    correlation: What correlation coefficient to use\n",
    "    '''   \n",
    "    #only keep column you need\n",
    "    series1 = series1[['date_time',metric]]\n",
    "    series2 = series2[['date_time',metric]]\n",
    "    \n",
    "    series1_mask = series1['date_time'].isin(series2['date_time'])\n",
    "    series2_mask = series2['date_time'].isin(series1['date_time'])\n",
    "    \n",
    "    if match=='omit':\n",
    "        # only take data that is present in both series\n",
    "        filt_series1 = series1[series1_mask]\n",
    "        filt_series2 = series2[series2_mask]\n",
    "    \n",
    "    if duplicates==True:\n",
    "        filt_series1 = filt_series1.drop_duplicates(subset='date_time')\n",
    "        filt_series2 = filt_series2.drop_duplicates(subset='date_time')\n",
    "    if showplot==True:\n",
    "        fig, ax = plt.subplots(figsize=(8,8))\n",
    "        plt.plot('date_time', metric, '--r',data=series1)\n",
    "        plt.plot('date_time', metric, '--b',data=series2)\n",
    "        plt.xticks(rotation=45)\n",
    "        plt.show()\n",
    "    \n",
    "    correlations = [pearsonr(filt_series1[metric], filt_series2[metric]),\n",
    "                    spearmanr(filt_series1[metric], filt_series2[metric])]\n",
    "    #print('Pearson: ', correlations[0])\n",
    "    #print('Spearman: ', correlations[1])\n",
    "    return correlations\n",
    "print(datetime.now())\n",
    "test1 = pd.read_csv(\"data\\\\\" + filenames[0], sep=\",\", header=None, \n",
    "                                      names=['date','time','opening','highest','lower','closing','volume'],\n",
    "                                      parse_dates=[['date', 'time']])\n",
    "test2 = pd.read_csv('data\\\\' + filenames[1], sep=\",\", header=None,\n",
    "                      names=['date','time','opening','highest','lower','closing','volume'],\n",
    "                      parse_dates=[['date', 'time']])\n",
    "\n",
    "correlation(test1,test2)\n",
    "print(datetime.now())"
   ]
  },
  {
   "cell_type": "code",
   "execution_count": 12,
   "metadata": {},
   "outputs": [
    {
     "name": "stdout",
     "output_type": "stream",
     "text": [
      "Start:  2020-05-04 19:55:38.344443\n",
      "End:  2020-05-04 19:55:56.636885\n"
     ]
    },
    {
     "data": {
      "image/png": "[encoded data removed]",
      "text/plain": [
       "<Figure size 1440x576 with 4 Axes>"
      ]
     },
     "metadata": {
      "needs_background": "light"
     },
     "output_type": "display_data"
    }
   ],
   "source": [
    "def multi_corr(filelist, showplot=True):\n",
    "    '''\n",
    "    filelist: a list with filenames that it needs to analyze and cross reference on correlations.\n",
    "    '''\n",
    "    #initialize scores\n",
    "    pearson = np.ones(shape=(len(filelist), len(filelist)))\n",
    "    spearman = np.ones(shape=(len(filelist), len(filelist)))\n",
    "    stocknames = [name.split('_')[2] for name in filelist]\n",
    "    \n",
    "    for i, name1 in enumerate(filelist):\n",
    "        for j, name2 in enumerate(filelist):\n",
    "            if name1 != name2:\n",
    "                # TODO\n",
    "                # Turn it into being compatible with spark, e.g.:\n",
    "                # df = spark.read.csv(\"src/main/resources/zipcodes.csv\")\n",
    "                \n",
    "                series1 = pd.read_csv('data\\\\' + filelist[i], sep=\",\", header=None, \n",
    "                                      names=['date','time','opening','highest','lower','closing','volume'],\n",
    "                                      parse_dates=[['date', 'time']])\n",
    "                series2 = pd.read_csv('data\\\\' + filelist[j], sep=\",\", header=None,\n",
    "                                      names=['date','time','opening','highest','lower','closing','volume'],\n",
    "                                      parse_dates=[['date', 'time']])\n",
    "                \n",
    "                corr = correlation(series1, series2)\n",
    "                \n",
    "                #add values to initialized array\n",
    "                #only interested in correlation, not in corresponding p value\n",
    "                pearson[i][j] = corr[0][0]\n",
    "                spearman[i][j] = corr[0][0]\n",
    "    \n",
    "    text_size =  20\n",
    "    \n",
    "    fig, ax = plt.subplots(nrows=1, ncols=2,figsize=(20,8))\n",
    "    sns.heatmap(pearson, annot=True, ax=ax[0], annot_kws={\"size\":text_size})\n",
    "    #im = ax[0].imshow(pearson)\n",
    "    # Loop over data dimensions and create text annotations.\n",
    "    \n",
    "    #ax[0].set_xticks(np.arange(len(stocknames)))\n",
    "    #ax[0].set_yticks(np.arange(len(stocknames)))\n",
    "    ax[0].tick_params(axis='both', labelsize=text_size)\n",
    "    ax[0].set_xticklabels(stocknames)\n",
    "    ax[0].set_yticklabels(stocknames)\n",
    "    ax[0].set_title(\"Pearson\", fontsize=text_size)\n",
    "    \n",
    "    #im = ax[1].imshow(spearman)\n",
    "    sns.heatmap(pearson, annot=True, ax=ax[1], annot_kws={\"size\":text_size})\n",
    "    ax[1].tick_params(axis='both', labelsize=text_size)\n",
    "    #ax[1].set_xticks(np.arange(len(stocknames)))\n",
    "    #ax[1].set_yticks(np.arange(len(stocknames)))\n",
    "    ax[1].set_xticklabels(stocknames)\n",
    "    ax[1].set_yticklabels(stocknames)\n",
    "    ax[1].set_title(\"Spearman\", fontsize=text_size)      \n",
    "\n",
    "    \n",
    "    \n",
    "bankfiles = ['202001_NYSE-American_BHB_NoExpiry.txt',\n",
    "             '202001_NYSE_BAC_NoExpiry.txt',\n",
    "             '202001_NYSE_HDB_NoExpiry.txt',\n",
    "             '202001_NYSE_IBN_NoExpiry.txt']\n",
    "\n",
    "print(\"Start: \",datetime.now())\n",
    "multi_corr(bankfiles)\n",
    "print(\"End: \", datetime.now())"
   ]
  },
  {
   "cell_type": "code",
   "execution_count": null,
   "metadata": {},
   "outputs": [],
   "source": []
  }
 ],
 "metadata": {
  "kernelspec": {
   "display_name": "Python 3",
   "language": "python",
   "name": "python3"
  },
  "language_info": {
   "codemirror_mode": {
    "name": "ipython",
    "version": 3
   },
   "file_extension": ".py",
   "mimetype": "text/x-python",
   "name": "python",
   "nbconvert_exporter": "python",
   "pygments_lexer": "ipython3",
   "version": "3.7.4"
  }
 },
 "nbformat": 4,
 "nbformat_minor": 2
}
